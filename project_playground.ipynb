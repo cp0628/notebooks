{
  "nbformat": 4,
  "nbformat_minor": 0,
  "metadata": {
    "colab": {
      "provenance": [],
      "authorship_tag": "ABX9TyOzuVlxTs22ASNbrq9jHjw+",
      "include_colab_link": true
    },
    "kernelspec": {
      "name": "python3",
      "display_name": "Python 3"
    },
    "language_info": {
      "name": "python"
    }
  },
  "cells": [
    {
      "cell_type": "markdown",
      "metadata": {
        "id": "view-in-github",
        "colab_type": "text"
      },
      "source": [
        "<a href=\"https://colab.research.google.com/github/cp0628/notebooks/blob/main/project_playground.ipynb\" target=\"_parent\"><img src=\"https://colab.research.google.com/assets/colab-badge.svg\" alt=\"Open In Colab\"/></a>"
      ]
    },
    {
      "cell_type": "code",
      "execution_count": 2,
      "metadata": {
        "id": "MvzYAwXJP--r"
      },
      "outputs": [],
      "source": [
        "import zipfile\n",
        "\n",
        "zipfile.ZipFile('project.zip').extractall('.')"
      ]
    },
    {
      "cell_type": "code",
      "source": [
        "from dtsc5502.version import _version_\n",
        "import dtsc5502.statistics as stats\n",
        "import dtsc5502.probabilities as probs\n",
        "\n",
        "print (_version_)\n",
        "lst = [1,2,3]\n",
        "print(stats.descriptive.mean(lst))\n",
        "print(probs.descriptive.factorial(3))"
      ],
      "metadata": {
        "id": "O-87t50JRPPq"
      },
      "execution_count": 4,
      "outputs": []
    },
    {
      "cell_type": "code",
      "source": [
        "! git clone https://github.com/cp0628/project.git"
      ],
      "metadata": {
        "colab": {
          "base_uri": "https://localhost:8080/"
        },
        "id": "_jsk_2YeRdf7",
        "outputId": "58c5206a-1fde-4ffc-e9a7-0b7d6f4314d8"
      },
      "execution_count": 1,
      "outputs": [
        {
          "output_type": "stream",
          "name": "stdout",
          "text": [
            "Cloning into 'project'...\n",
            "remote: Enumerating objects: 24, done.\u001b[K\n",
            "remote: Counting objects: 100% (24/24), done.\u001b[K\n",
            "remote: Compressing objects: 100% (20/20), done.\u001b[K\n",
            "remote: Total 24 (delta 0), reused 24 (delta 0), pack-reused 0\u001b[K\n",
            "Receiving objects: 100% (24/24), 4.50 KiB | 4.50 MiB/s, done.\n"
          ]
        }
      ]
    },
    {
      "cell_type": "code",
      "source": [
        "from project.dtsc5502.version import _version_\n",
        "import project.dtsc5502.statistics as stats\n",
        "import project.dtsc5502.probabilities as probs\n",
        "\n",
        "print (_version_)\n",
        "lst = [1,2,3]\n",
        "print(stats.descriptive.mean(lst))\n",
        "print(probs.descriptive.factorial(3))"
      ],
      "metadata": {
        "id": "MVdAdZbkWvMN"
      },
      "execution_count": null,
      "outputs": []
    },
    {
      "cell_type": "code",
      "source": [],
      "metadata": {
        "id": "RzZXTH8eW8QT"
      },
      "execution_count": null,
      "outputs": []
    }
  ]
}